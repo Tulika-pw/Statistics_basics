{
  "nbformat": 4,
  "nbformat_minor": 0,
  "metadata": {
    "colab": {
      "provenance": []
    },
    "kernelspec": {
      "name": "python3",
      "display_name": "Python 3"
    },
    "language_info": {
      "name": "python"
    }
  },
  "cells": [
    {
      "cell_type": "markdown",
      "source": [
        "Statistics basics- Theory\n",
        "\n",
        "1.\tWhat is statistics, and why is it important?\n",
        "- Statistics is a mathematical science including methods of collecting, organizing and analyzing data in such a way that meaningful conclusions can be drawn from them.\n",
        "- It is important because using various statistics techniques we can present the data in a more readable way and we can easily draw conclusion from the given data.\n",
        "\n",
        "2.\tWhat are the two main types of statistics?\n",
        "- The two types of statistics are: Descriptive and inferential.\n",
        "\n",
        "3.\tWhat are descriptive statistics?\n",
        "-\tDescriptive statistics refers to the process of summarizing numerical and categorical data in a concise and informative manner.\n",
        "\n",
        "4.\tWhat is inferential statistics?\n",
        "-\tInferential statistics can be defined as a field of statistics that uses analytical tools for drawing conclusions about a population by examining random samples. The goal of inferential statistics is to make generalizations about a population.\n",
        "\n",
        "5.\tWhat is sampling in statistics?\n",
        "-\tSampling is the selection of a subset or a statistical sample of individuals from within a statistical population to estimate characteristics of the whole population.\n",
        "\n",
        "6.\tWhat are the different types of sampling methods?\n",
        "-\tSampling methods include simple random sampling, systematic sampling, stratified sampling, and cluster sampling.\n",
        "\n",
        "7.\tWhat is the difference between random and non-random sampling?\n",
        "-\tRandom sampling is a method where each sample has an equal chance of being selected. Random sampling is unbiased.\n",
        "-\tNon-random sampling is a method where the selection of samples is based on factors such as convenience, judgment, and experience of the researcher. Non-random sampling is biased.\n",
        "\n",
        "8.\tDefine and give examples of qualitative and quantitative data.\n",
        "-\tQuantitative data is anything that can be counted or measured; it refers to numerical data like age of population members, number of cities in a country.\n",
        "-\t Qualitative data is descriptive, referring to things that can be observed but not measured—such as colors, male- female division in a population.\n",
        "\n",
        "9.\tWhat are the different types of data in statistics?\n",
        "-\tNominal, ordinal, discrete and continuous data are the main types of data used in statistics.\n",
        "\n",
        "10.\tExplain nominal, ordinal, interval, and ratio levels of measurement.\n",
        "-\tNominal: Categorical data without any order (e.g., gender, colors).\n",
        "-\tOrdinal: Categorical data with a meaningful order but no equal intervals (e.g., satisfaction ratings).\n",
        "-\tInterval: Numeric data with a meaningful order and equal intervals but no true zero (e.g., temperature in Celsius).\n",
        "-\tRatio: Numeric data with a meaningful order and equal intervals and having true zero (e.g., speed in miles per hour).\n",
        "\n",
        "11.\tWhat is the measure of central tendency?\n",
        "-\tThe central tendency measure is defined as the number used to represent the center or middle of a set of data values. The three commonly used measures of central tendency are the mean, median, and mode.\n",
        "\n",
        "12.\tDefine mean, median, and mode.\n",
        "-\tThe mean (average) of a data set is found by adding all numbers in the data set and then dividing by the number of values in the set.\n",
        "-\tThe median is the middle value when a data set is ordered from least to greatest.\n",
        "-\tThe mode is the number that occurs most often in a data set.\n",
        "\n",
        "13.\tWhat is the significance of the measure of central tendency?\n",
        "-\tMeasures of central tendency are essential in statistics as they provide a central reference point to understand the main characteristics of a dataset. These measures help in identifying patterns, making comparisons, and drawing meaningful conclusions from data.\n",
        "\n",
        "14.\tWhat is variance, and how is it calculated?\n",
        "-\tA variance is a measure of how far a set of data (numbers) are spread out from their mean (average) value.\n",
        "-\tIt is calculated by taking the differences between each number in the data set and the mean, squaring the differences to make them positive, and then dividing the sum of the squares by the number of values in the data set.\n",
        "\n",
        "15.\tWhat is standard deviation, and why is it important?\n",
        "-\tA standard deviation (or σ) is a measure of how dispersed the data is in relation to the mean. Low, or small, standard deviation indicates data are clustered tightly around the mean, and high, or large, standard deviation indicates data are more spread out.\n",
        "-\tStandard deviation is important because it measures the deviation from the mean, which is a vital statistic. It shows a central tendency. It is significant in measuring the accuracy and precision of a single typical measurement. It is also a measure of spread of data around the mean.\n",
        "\n",
        "16.\tDefine and explain the term range in statistics.\n",
        "-\tThe range in statistics for a given data set is the difference between the highest and lowest values. For example, if the given data set is {2,5,8,10,3}, then the range will be 10 – 2 = 8.\n",
        "17.\tWhat is the difference between variance and standard deviation?\n",
        "-\tStandard deviation is the spread of a group of numbers from the mean. The variance measures the average degree to which each point differs from the mean. Standard deviation is the square root of the variance, variance is the average of the squared difference of each data point from the mean.\n",
        "\n",
        "18.\tWhat is skewness in a dataset?\n",
        "-\tSkewness is a measure of the asymmetry of a distribution. A distribution is asymmetrical when its left and right side are not mirror images. A distribution can have right (or positive), left (or negative), or zero skewness.\n",
        "\n",
        "19.\tWhat does it mean if a dataset is positively or negatively skewed?\n",
        "-\tNegative or left-skewed refers to a longer or fatter tail on the left side of the distribution, while positive or right-skewed refers to a longer or fatter tail on the right. These two skews show the direction of the distribution.\n",
        "\n",
        "20.\tDefine and explain kurtosis.\n",
        "-\tKurtosis is a statistical measure used to describe a characteristic of a dataset. It generally takes the form of a bell when normally distributed data is plotted on a graph. This is called the bell curve. The plotted data that are farthest from the mean of the data usually form the tails on each side of the curve.\n",
        "\n",
        "21.\tWhat is the purpose of covariance?\n",
        "-\tThe covariance is used to determine the direction of the relationship between two variables—in other words, whether they tend to move in the same or opposite directions.\n",
        "\n",
        "22.\tWhat does correlation measure in statistics?\n",
        "-\tA correlation is a statistical measure of the relationship between two variables. The measure is best used in variables that demonstrate a linear relationship between each other. The fit of the data can be visually represented in a scatterplot.\n",
        "\n",
        "23.\tWhat is the difference between covariance and correlation?\n",
        "-\tCovariance and correlation are the two key concepts in Statistics that help us analyze the relationship between two variables. Covariance measures how two variables change together, indicating whether they move in the same or opposite directions. Correlation is a standardized measure of the strength and direction of the linear relationship between two variables. It is derived from covariance and ranges between -1 and 1. Unlike covariance, which only indicates the direction of the relationship, correlation provides a standardized measure.\n",
        "\n",
        "24.\tWhat are some real-world applications of statistics?\n",
        "-\tStatistics has a vast use in different domains of our life. For example, in business to detect market trends and sales results, in education to determine teaching method effectiveness, in government to detect changes in population demographics and effectiveness of public policy, and in sports to examine player and team successes and capabilities.\n",
        "\n"
      ],
      "metadata": {
        "id": "evOhpVNhrYt5"
      }
    },
    {
      "cell_type": "code",
      "execution_count": null,
      "metadata": {
        "colab": {
          "base_uri": "https://localhost:8080/"
        },
        "id": "7K4djFwArTUZ",
        "outputId": "aeef8cf2-6828-46ad-8370-7f498281ad9d"
      },
      "outputs": [
        {
          "output_type": "stream",
          "name": "stdout",
          "text": [
            "Mean: 3.1666666666666665\n",
            "Median: 3.5\n",
            "Mode: 4\n"
          ]
        }
      ],
      "source": [
        "#1. How do you calculate the mean, median, and mode of a dataset?\n",
        "import numpy as np\n",
        "import statistics as stats\n",
        "dataset = [1, 2, 3, 4, 4, 5]\n",
        "mean = np.mean(dataset)\n",
        "median = np.median(dataset)\n",
        "mode = stats.mode(dataset)\n",
        "\n",
        "print(\"Mean:\", mean)\n",
        "print(\"Median:\", median)\n",
        "print(\"Mode:\", mode)"
      ]
    },
    {
      "cell_type": "code",
      "source": [
        "#2. Write a Python program to compute the variance and standard deviation of a dataset.\n",
        "\n",
        "dataset = [1, 2, 3, 4, 5]\n",
        "variance = np.var(dataset)\n",
        "std_dev = np.std(dataset)\n",
        "\n",
        "print(\"Variance:\", variance)\n",
        "print(\"Standard Deviation:\", std_dev)"
      ],
      "metadata": {
        "colab": {
          "base_uri": "https://localhost:8080/"
        },
        "id": "bDMsSChar4wC",
        "outputId": "08ec5c16-2a31-4b97-8be9-325930275577"
      },
      "execution_count": null,
      "outputs": [
        {
          "output_type": "stream",
          "name": "stdout",
          "text": [
            "Variance: 2.0\n",
            "Standard Deviation: 1.4142135623730951\n"
          ]
        }
      ]
    },
    {
      "cell_type": "code",
      "source": [
        "#3.  Create a dataset and classify it into nominal, ordinal, interval, and ratio types.\n",
        "\n",
        "#nominal\n",
        "nominal_dataset = [\"apple\", \"banana\", \"orange\"]\n",
        "#ordinal\n",
        "ordinal_dataset = [\"low\", \"medium\", \"high\"] # performance of students\n",
        "#interval\n",
        "interval_dataset = [20, 30, 40, 50] # Score of a cricketer's last 4 matches\n",
        "#ratio\n",
        "ratio_dataset\n",
        " A = [10, 20, 30, 40] # Ages of members in population A & B\n",
        " B = [2, 4, 6, 8]\n",
        "\n"
      ],
      "metadata": {
        "id": "xoQvDI7Br6PL"
      },
      "execution_count": null,
      "outputs": []
    },
    {
      "cell_type": "code",
      "source": [
        "#4. Implement sampling techniques like random sampling and stratified sampling.\n",
        "#Random sampling\n",
        "import random\n",
        "data_set = [1, 2, 3, 4, 5, 6, 7, 8, 9, 10]\n",
        "random_sample = random.sample(data_set, 3)\n",
        "print(\"Random Sample:\", random_sample)\n",
        "\n"
      ],
      "metadata": {
        "id": "wPhtpfTpr6dy",
        "colab": {
          "base_uri": "https://localhost:8080/"
        },
        "outputId": "988a8c22-fc40-4055-e2d6-b6a45d831c31"
      },
      "execution_count": null,
      "outputs": [
        {
          "output_type": "stream",
          "name": "stdout",
          "text": [
            "Random Sample: [10, 9, 3]\n"
          ]
        }
      ]
    },
    {
      "cell_type": "code",
      "source": [
        "#Continuation of Question 4 (stratified sampling)\n",
        "from sklearn.model_selection import train_test_split\n",
        "\n",
        "X = ['A1', 'A2', 'A3', 'B1', 'B2', 'B3']\n",
        "y = ['A',  'A',  'A',  'B',  'B',  'B']\n",
        "\n",
        "X_train, X_test, y_train, y_test = train_test_split(X, y, test_size=0.5, stratify=y, random_state=1)\n",
        "\n",
        "print(\"Train:\", X_train)\n",
        "print(\"Test:\", X_test)"
      ],
      "metadata": {
        "colab": {
          "base_uri": "https://localhost:8080/"
        },
        "id": "kjuKe4uwHZ9I",
        "outputId": "c2307d0e-63aa-46bc-9ef3-adcc5f465e14"
      },
      "execution_count": null,
      "outputs": [
        {
          "output_type": "stream",
          "name": "stdout",
          "text": [
            "Train: ['A2', 'B1', 'A3']\n",
            "Test: ['B3', 'B2', 'A1']\n"
          ]
        }
      ]
    },
    {
      "cell_type": "code",
      "source": [
        "#5. Write a Python function to calculate the range of a dataset.\n",
        "import numpy as np\n",
        "data_set = [52,64,76,87,99]\n",
        "range = max(data_set)-min(data_set)\n",
        "print(\"Range\", range)"
      ],
      "metadata": {
        "id": "zqzdktqNr6sn",
        "colab": {
          "base_uri": "https://localhost:8080/"
        },
        "outputId": "5c8bdb76-56db-41d3-9611-15eb3cb5ed2e"
      },
      "execution_count": null,
      "outputs": [
        {
          "output_type": "stream",
          "name": "stdout",
          "text": [
            "Range 47\n"
          ]
        }
      ]
    },
    {
      "cell_type": "code",
      "source": [
        "#6. Create a dataset and plot its histogram to visualize skewness.\n",
        "import matplotlib.pyplot as plt\n",
        "data_set = [52,64,76,87,99]\n",
        "plt.hist(data_set)\n",
        "plt.show()"
      ],
      "metadata": {
        "id": "Vy2Yc4v6r67W",
        "colab": {
          "base_uri": "https://localhost:8080/",
          "height": 430
        },
        "outputId": "911f56e8-4380-4640-eab9-ee2e1512c533"
      },
      "execution_count": null,
      "outputs": [
        {
          "output_type": "display_data",
          "data": {
            "text/plain": [
              "<Figure size 640x480 with 1 Axes>"
            ],
            "image/png": "[encoded data removed]"
          },
          "metadata": {}
        }
      ]
    },
    {
      "cell_type": "code",
      "source": [
        "#7. Calculate skewness and kurtosis of a dataset using Python libraries.\n",
        "import scipy.stats as stats\n",
        "data_set = [52,64,76,87,99]\n",
        "skewness = stats.skew(data_set)\n",
        "kurtosis = stats.kurtosis(data_set)\n",
        "print(\"Skewness:\", skewness)\n",
        "print(\"Kurtosis:\", kurtosis)"
      ],
      "metadata": {
        "id": "SvF6_kDzr7Jz",
        "colab": {
          "base_uri": "https://localhost:8080/"
        },
        "outputId": "18cb4c31-fbdc-4544-dd63-2bd9f4fa75d6"
      },
      "execution_count": null,
      "outputs": [
        {
          "output_type": "stream",
          "name": "stdout",
          "text": [
            "Skewness: -0.018123660480166597\n",
            "Kurtosis: -1.2796728989311106\n"
          ]
        }
      ]
    },
    {
      "cell_type": "code",
      "source": [
        "#8. Generate a dataset and demonstrate positive and negative skewness.\n",
        "\n",
        "data_set_1 = [52,64,76,74,87,99, 49, 68]\n",
        "data_set_2 = [54, 186, 9865, 5500, 2345, 5434, 6787, 7564]\n",
        "\n",
        "skewness_1 = stats.skew(data_set_1)\n",
        "skewness_2 = stats.skew(data_set_2)\n",
        "\n",
        "print(\"Skewness-1:\", skewness_1)\n",
        "print(\"Skewness-2:\", skewness_2)"
      ],
      "metadata": {
        "id": "IZZfwIKir7Yg",
        "colab": {
          "base_uri": "https://localhost:8080/"
        },
        "outputId": "23181754-5dde-42ac-c3ef-196dd4e98be9"
      },
      "execution_count": null,
      "outputs": [
        {
          "output_type": "stream",
          "name": "stdout",
          "text": [
            "Skewness-1: 0.24397215895483962\n",
            "Skewness-2: -0.13208611780945542\n"
          ]
        }
      ]
    },
    {
      "cell_type": "code",
      "source": [
        "#9. Write a Python script to calculate covariance between two datasets.\n",
        "\n",
        "data_set_1 = [52,64,76,74,87,99, 49, 68]\n",
        "data_set_2 = [54, 186, 9865, 5500, 2345, 5434, 6787, 7564]\n",
        "covariance = np.cov(data_set_1, data_set_2)\n",
        "print(\"Covariance:\", covariance)"
      ],
      "metadata": {
        "id": "pebfCmuir7mY",
        "colab": {
          "base_uri": "https://localhost:8080/"
        },
        "outputId": "8c2c9ad6-f120-44d3-8ec6-3f8a31e760df"
      },
      "execution_count": null,
      "outputs": [
        {
          "output_type": "stream",
          "name": "stdout",
          "text": [
            "Covariance: [[2.82410714e+02 1.09208750e+04]\n",
            " [1.09208750e+04 1.25599007e+07]]\n"
          ]
        }
      ]
    },
    {
      "cell_type": "code",
      "source": [
        "#10. Write a Python script to calculate the correlation coefficient between two datasets.\n",
        "\n",
        "data_set_1 = [52,64,76,74,87,99, 49, 68]\n",
        "data_set_2 = [54, 186, 9865, 5500, 2345, 5434, 6787, 7564]\n",
        "correlation = np.corrcoef(data_set_1, data_set_2)\n",
        "print(\"Correlation\", correlation)"
      ],
      "metadata": {
        "id": "zQ-4TbC8r72u",
        "colab": {
          "base_uri": "https://localhost:8080/"
        },
        "outputId": "dc23d603-1228-4790-a64d-77040c002e0f"
      },
      "execution_count": null,
      "outputs": [
        {
          "output_type": "stream",
          "name": "stdout",
          "text": [
            "Correlation [[1.         0.18336808]\n",
            " [0.18336808 1.        ]]\n"
          ]
        }
      ]
    },
    {
      "cell_type": "code",
      "source": [
        "#11. Create a scatter plot to visualize the relationship between two variables.\n",
        "import matplotlib.pyplot as plt\n",
        "x = [1, 2, 3, 4, 5]\n",
        "y = [2, 4, 6, 8, 10]\n",
        "plt.scatter(x, y)\n",
        "plt.show()"
      ],
      "metadata": {
        "id": "iVCsIkSNr8lm",
        "colab": {
          "base_uri": "https://localhost:8080/",
          "height": 430
        },
        "outputId": "b21a734a-0d50-49a8-e962-5106f53388b3"
      },
      "execution_count": null,
      "outputs": [
        {
          "output_type": "display_data",
          "data": {
            "text/plain": [
              "<Figure size 640x480 with 1 Axes>"
            ],
            "image/png": "[encoded data removed]"
          },
          "metadata": {}
        }
      ]
    },
    {
      "cell_type": "code",
      "source": [
        "#12. Implement and compare simple random sampling and systematic sampling.\n",
        "\n",
        "import random\n",
        "\n",
        "data = list(range(1, 21))\n",
        "n = 5 # Sample size\n",
        "\n",
        "simple_random = random.sample(data, n)\n",
        "print(\"Simple Random Sample:\", simple_random)\n",
        "\n",
        "\n",
        "# Systematic Sampling\n",
        "\n",
        "step = len(data) // n\n",
        "start = random.randint(0, step - 1)\n",
        "systematic = [data[i] for i in range(start, len(data), step)][:n]\n",
        "print(\"Systematic Sample:\", systematic)\n"
      ],
      "metadata": {
        "id": "nUCGdDrBr9Hl",
        "colab": {
          "base_uri": "https://localhost:8080/"
        },
        "outputId": "490424bb-5949-4772-c8a9-bf1531f63d18"
      },
      "execution_count": null,
      "outputs": [
        {
          "output_type": "stream",
          "name": "stdout",
          "text": [
            "Simple Random Sample: [11, 5, 8, 6, 10]\n",
            "Systematic Sample: [4, 8, 12, 16, 20]\n"
          ]
        }
      ]
    },
    {
      "cell_type": "code",
      "source": [
        "#13. Calculate the mean, median, and mode of grouped data.\n",
        "\n",
        "import pandas as pd\n",
        "import numpy as np\n",
        "\n",
        "# data sample\n",
        "intervals = ['0-10', '10-20', '20-30', '30-40', '40-50']\n",
        "frequencies = [5, 8, 15, 10, 2]\n",
        "\n",
        "\n",
        "df = pd.DataFrame({'Interval': intervals, 'Frequency': frequencies})\n",
        "\n",
        "# Calculate midpoints\n",
        "df['Lower'] = df['Interval'].str.split('-').str[0].astype(int)\n",
        "df['Upper'] = df['Interval'].str.split('-').str[1].astype(int)\n",
        "df['Midpoint'] = (df['Lower'] + df['Upper']) / 2\n",
        "\n",
        "# Mean\n",
        "df['f*x'] = df['Frequency'] * df['Midpoint']\n",
        "mean = df['f*x'].sum() / df['Frequency'].sum()\n",
        "\n",
        "# Median\n",
        "df['Cumulative Frequency'] = df['Frequency'].cumsum()\n",
        "N = df['Frequency'].sum()\n",
        "median_class_index = df[df['Cumulative Frequency'] >= N/2].index[0]\n",
        "\n",
        "L = df.loc[median_class_index, 'Lower']\n",
        "F = df.loc[median_class_index - 1, 'Cumulative Frequency'] if median_class_index > 0 else 0\n",
        "f = df.loc[median_class_index, 'Frequency']\n",
        "h = df.loc[median_class_index, 'Upper'] - df.loc[median_class_index, 'Lower']\n",
        "median = L + ((N/2 - F) / f) * h\n",
        "\n",
        "# Mode\n",
        "modal_index = df['Frequency'].idxmax()\n",
        "L = df.loc[modal_index, 'Lower']\n",
        "f1 = df.loc[modal_index, 'Frequency']\n",
        "f0 = df.loc[modal_index - 1, 'Frequency'] if modal_index > 0 else 0\n",
        "f2 = df.loc[modal_index + 1, 'Frequency'] if modal_index < len(df) - 1 else 0\n",
        "h = df.loc[modal_index, 'Upper'] - df.loc[modal_index, 'Lower']\n",
        "mode = L + ((f1 - f0) / ((2*f1 - f0 - f2))) * h\n",
        "\n",
        "\n",
        "print(\"Mean:\", round(mean, 2))\n",
        "print(\"Median:\", round(median, 2))\n",
        "print(\"Mode:\", round(mode, 2))\n",
        "\n",
        "\n"
      ],
      "metadata": {
        "id": "lZQA7MQhr9W3",
        "colab": {
          "base_uri": "https://localhost:8080/"
        },
        "outputId": "66403490-23b7-4535-b332-cb73827dc818"
      },
      "execution_count": null,
      "outputs": [
        {
          "output_type": "stream",
          "name": "stdout",
          "text": [
            "Mean: 24.0\n",
            "Median: 24.67\n",
            "Mode: 25.83\n"
          ]
        }
      ]
    },
    {
      "cell_type": "code",
      "source": [
        "#14. Simulate data using Python and calculate its central tendency and dispersion.\n",
        "\n",
        "import statistics\n",
        "\n",
        "data = [random.randint(1, 100) for _ in range(10)]\n",
        "\n",
        "# Print the data\n",
        "print(\"Data:\", data)\n",
        "\n",
        "\n",
        "mean = statistics.mean(data)\n",
        "median = statistics.median(data)\n",
        "mode = statistics.mode(data)\n",
        "\n",
        "variance = statistics.variance(data)\n",
        "std_dev = statistics.stdev(data)\n",
        "data_range = max(data) - min(data)\n",
        "\n",
        "print(\"\\nCentral Tendency:\")\n",
        "print(\"Mean:\", mean)\n",
        "print(\"Median:\", median)\n",
        "print(\"Mode:\", mode)\n",
        "\n",
        "print(\"\\nDispersion:\")\n",
        "print(\"Variance:\", variance)\n",
        "print(\"Standard Deviation:\", std_dev)\n",
        "print(\"Range:\", data_range)\n",
        "\n"
      ],
      "metadata": {
        "id": "IkYWdZ4sr9lv",
        "colab": {
          "base_uri": "https://localhost:8080/"
        },
        "outputId": "6ce4fd8c-b7db-4593-b4a2-d91225d71473"
      },
      "execution_count": null,
      "outputs": [
        {
          "output_type": "stream",
          "name": "stdout",
          "text": [
            "Data: [10, 28, 92, 15, 25, 32, 69, 16, 62, 18]\n",
            "\n",
            "Central Tendency:\n",
            "Mean: 36.7\n",
            "Median: 26.5\n",
            "Mode: 10\n",
            "\n",
            "Dispersion:\n",
            "Variance: 770.9\n",
            "Standard Deviation: 27.76508598942204\n",
            "Range: 82\n"
          ]
        }
      ]
    },
    {
      "cell_type": "code",
      "source": [
        "#15. Use NumPy or pandas to summarize a dataset’s descriptive statistics.\n",
        "\n",
        "data = np.random.randint(50, 101, size=100)\n",
        "df = pd.DataFrame({'Scores': data})\n",
        "\n",
        "summary = df.describe()\n",
        "print(\"Descriptive Statistics:\\n\")\n",
        "print(summary)\n",
        "\n"
      ],
      "metadata": {
        "id": "rawUHRVKr94z",
        "colab": {
          "base_uri": "https://localhost:8080/"
        },
        "outputId": "fd995841-7377-429b-e98c-2daceec2393a"
      },
      "execution_count": null,
      "outputs": [
        {
          "output_type": "stream",
          "name": "stdout",
          "text": [
            "Descriptive Statistics:\n",
            "\n",
            "           Scores\n",
            "count  100.000000\n",
            "mean    75.730000\n",
            "std     13.479393\n",
            "min     50.000000\n",
            "25%     66.000000\n",
            "50%     75.000000\n",
            "75%     89.000000\n",
            "max     99.000000\n"
          ]
        }
      ]
    },
    {
      "cell_type": "code",
      "source": [
        "#16. Plot a boxplot to understand the spread and identify outliers.\n",
        "import seaborn as sns\n",
        "data = [2,3,4,5,8,9,12,40,41,15]\n",
        "sns.boxplot(data)"
      ],
      "metadata": {
        "id": "cg_QYw4jr-Nw",
        "colab": {
          "base_uri": "https://localhost:8080/",
          "height": 428
        },
        "outputId": "4671da06-6faf-4b11-8b57-0bbb71268ee0"
      },
      "execution_count": null,
      "outputs": [
        {
          "output_type": "execute_result",
          "data": {
            "text/plain": [
              "<Axes: >"
            ]
          },
          "metadata": {},
          "execution_count": 43
        },
        {
          "output_type": "display_data",
          "data": {
            "text/plain": [
              "<Figure size 640x480 with 1 Axes>"
            ],
            "image/png": "[encoded data removed]"
          },
          "metadata": {}
        }
      ]
    },
    {
      "cell_type": "code",
      "source": [
        "#17. Calculate the interquartile range (IQR) of a dataset.\n",
        "\n",
        "data = [10, 12, 15, 18, 21, 22, 23, 25, 30, 35]\n",
        "\n",
        "data = np.array(data)\n",
        "Q1 = np.percentile(data, 25)\n",
        "Q3 = np.percentile(data, 75)\n",
        "\n",
        "IQR = Q3 - Q1\n",
        "\n",
        "print(\"Q1 (25th percentile):\", Q1)\n",
        "print(\"Q3 (75th percentile):\", Q3)\n",
        "print(\"Interquartile Range (IQR):\", IQR)"
      ],
      "metadata": {
        "id": "sbLX2NE7r_FO",
        "colab": {
          "base_uri": "https://localhost:8080/"
        },
        "outputId": "70538dcc-f5de-4e53-8c6a-8d3a226efd4a"
      },
      "execution_count": null,
      "outputs": [
        {
          "output_type": "stream",
          "name": "stdout",
          "text": [
            "Q1 (25th percentile): 15.75\n",
            "Q3 (75th percentile): 24.5\n",
            "Interquartile Range (IQR): 8.75\n"
          ]
        }
      ]
    },
    {
      "cell_type": "code",
      "source": [
        "#18. Implement Z-score normalization and explain its significance.\n",
        "'''Z-score normalization is a powerful technique for standardizing data,\n",
        "making it essential for various data science and machine learning applications.\n",
        "By transforming data to have a mean of zero and a standard deviation of one, it\n",
        "ensures that features are on a common scale, improving model performance and robustness.'''\n",
        "\n",
        "data = [50, 60, 70, 80, 90]\n",
        "df = pd.Series(data)\n",
        "\n",
        "mean = df.mean()\n",
        "std = df.std()\n",
        "\n",
        "z_scores = (df - mean) / std\n",
        "\n",
        "print(\"Original Data:\", df.tolist())\n",
        "print(\"Z-score Normalized Data:\", z_scores.round(2).tolist())\n",
        "\n",
        "\n"
      ],
      "metadata": {
        "id": "gC6Z_-c4r_MM",
        "colab": {
          "base_uri": "https://localhost:8080/"
        },
        "outputId": "7a95bc03-3597-4ebb-f544-55341be00521"
      },
      "execution_count": null,
      "outputs": [
        {
          "output_type": "stream",
          "name": "stdout",
          "text": [
            "Original Data: [50, 60, 70, 80, 90]\n",
            "Z-score Normalized Data: [-1.26, -0.63, 0.0, 0.63, 1.26]\n"
          ]
        }
      ]
    },
    {
      "cell_type": "code",
      "source": [
        "#19. Compare two datasets using their standard deviations.\n",
        "data_set_1 = [52,64,76,74,87,99, 49, 68]\n",
        "data_set_2 = [54, 186, 9865, 5500, 2345, 5434, 6787, 7564]\n",
        "std_dev_1 = np.std(data_set_1)\n",
        "std_dev_2 = np.std(data_set_2)\n",
        "print(\"Standard Deviation-1:\", std_dev_1)\n",
        "print(\"Standard Deviation-2:\", std_dev_2)\n"
      ],
      "metadata": {
        "id": "BOFj3yAYsc4P",
        "colab": {
          "base_uri": "https://localhost:8080/"
        },
        "outputId": "746cfc3c-135e-4a70-baa2-d61e9d7205b3"
      },
      "execution_count": null,
      "outputs": [
        {
          "output_type": "stream",
          "name": "stdout",
          "text": [
            "Standard Deviation-1: 15.719712942671695\n",
            "Standard Deviation-2: 3315.103785611395\n"
          ]
        }
      ]
    },
    {
      "cell_type": "code",
      "source": [
        "#20. Write a Python program to visualize covariance using a heatmap.\n",
        "import seaborn as sns\n",
        "data_set_1 = [52,64,76,74,87,99, 49, 68]\n",
        "data_set_2 = [54, 186, 86, 55, 25, 54, 67, 75]\n",
        "covariance = np.cov(data_set_1, data_set_2)\n",
        "sns.heatmap(covariance, annot = True)"
      ],
      "metadata": {
        "id": "ozq-ToX7sdIC",
        "colab": {
          "base_uri": "https://localhost:8080/",
          "height": 447
        },
        "outputId": "a991650d-9238-4fdf-c668-ab6ca201d50e"
      },
      "execution_count": null,
      "outputs": [
        {
          "output_type": "execute_result",
          "data": {
            "text/plain": [
              "<Axes: >"
            ]
          },
          "metadata": {},
          "execution_count": 51
        },
        {
          "output_type": "display_data",
          "data": {
            "text/plain": [
              "<Figure size 640x480 with 2 Axes>"
            ],
            "image/png": "[encoded data removed]"
          },
          "metadata": {}
        }
      ]
    },
    {
      "cell_type": "code",
      "source": [
        "#21. Use seaborn to create a correlation matrix for a dataset.\n",
        "\n",
        "import seaborn as sns\n",
        "import pandas as pd\n",
        "import matplotlib.pyplot as plt\n",
        "\n",
        "df = sns.load_dataset('iris')\n",
        "\n",
        "sns.heatmap(df.corr(numeric_only=True), annot=True, cmap='coolwarm')\n",
        "plt.show()\n",
        "\n"
      ],
      "metadata": {
        "id": "6yAqRv7XsdUI",
        "colab": {
          "base_uri": "https://localhost:8080/",
          "height": 435
        },
        "outputId": "0c7b6f45-0291-4584-b610-fec874017e73"
      },
      "execution_count": null,
      "outputs": [
        {
          "output_type": "display_data",
          "data": {
            "text/plain": [
              "<Figure size 640x480 with 2 Axes>"
            ],
            "image/png": "[encoded data removed]"
          },
          "metadata": {}
        }
      ]
    },
    {
      "cell_type": "code",
      "source": [
        "#22. Generate a dataset and implement both variance and standard deviation computations.\n",
        "\n",
        "\n",
        "data = [random.randint(1, 100) for _ in range(10)]\n",
        "\n",
        "print(\"Data:\", data)\n",
        "\n",
        "variance = statistics.variance(data)\n",
        "std_dev = statistics.stdev(data)\n",
        "\n",
        "print(\"Variance:\", round(variance, 2))\n",
        "print(\"Standard Deviation:\", round(std_dev, 2))\n",
        "\n"
      ],
      "metadata": {
        "id": "NHAGCh-msdg1",
        "colab": {
          "base_uri": "https://localhost:8080/"
        },
        "outputId": "0e9c8cb8-44b8-47fb-b0ab-d6ed1f285897"
      },
      "execution_count": null,
      "outputs": [
        {
          "output_type": "stream",
          "name": "stdout",
          "text": [
            "Data: [100, 44, 36, 98, 85, 48, 92, 100, 16, 95]\n",
            "Variance: 1014.49\n",
            "Standard Deviation: 31.85\n"
          ]
        }
      ]
    },
    {
      "cell_type": "code",
      "source": [
        "#23. Visualize skewness and kurtosis using Python libraries like matplotlib or seaborn.\n",
        "import scipy.stats as stats\n",
        "data_set = [52,64,76,87,99]\n",
        "skewness = stats.skew(data_set)\n",
        "kurtosis = stats.kurtosis(data_set)\n",
        "sns.boxplot(data_set)"
      ],
      "metadata": {
        "id": "mG6IX-R_sds3",
        "colab": {
          "base_uri": "https://localhost:8080/",
          "height": 429
        },
        "outputId": "d4f44e48-01bf-44b6-efb0-d59fb15e749d"
      },
      "execution_count": null,
      "outputs": [
        {
          "output_type": "execute_result",
          "data": {
            "text/plain": [
              "<Axes: >"
            ]
          },
          "metadata": {},
          "execution_count": 58
        },
        {
          "output_type": "display_data",
          "data": {
            "text/plain": [
              "<Figure size 640x480 with 1 Axes>"
            ],
            "image/png": "[encoded data removed]"
          },
          "metadata": {}
        }
      ]
    },
    {
      "cell_type": "code",
      "source": [
        "#24. Implement the Pearson and Spearman correlation coefficients for a dataset.\n",
        "\n",
        "data = {'x': [10, 20, 30, 40, 50],\n",
        "        'y': [15, 25, 35, 45, 60]}\n",
        "df = pd.DataFrame(data)\n",
        "\n",
        "print(\"Pearson:\", df.corr(method='pearson'))\n",
        "print(\"Spearman:\", df.corr(method='spearman'))\n"
      ],
      "metadata": {
        "id": "FwBrQXMesd5o",
        "colab": {
          "base_uri": "https://localhost:8080/"
        },
        "outputId": "d36b9b86-07d7-4419-9eaf-b8f30e66f16a"
      },
      "execution_count": null,
      "outputs": [
        {
          "output_type": "stream",
          "name": "stdout",
          "text": [
            "Pearson:           x         y\n",
            "x  1.000000  0.995893\n",
            "y  0.995893  1.000000\n",
            "Spearman:      x    y\n",
            "x  1.0  1.0\n",
            "y  1.0  1.0\n"
          ]
        }
      ]
    }
  ]
}